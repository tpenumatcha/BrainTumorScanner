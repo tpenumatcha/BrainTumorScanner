{
 "cells": [
  {
   "cell_type": "code",
   "execution_count": 1,
   "source": [
    "import tensorflow as tf\n",
    "from tensorflow import keras\n",
    "from tensorflow.keras.preprocessing.image import ImageDataGenerator\n",
    "from tensorflow.keras.preprocessing import image\n",
    "import numpy as np\n",
    "\n",
    "\n",
    "training_datagen = ImageDataGenerator(rescale = 1./255)\n",
    "test_datagen = ImageDataGenerator(rescale=  1./255)\n",
    "\n",
    "train_generator = training_datagen.flow_from_directory(\n",
    "    'brain_tumor_dataset/train',\n",
    "    target_size=(200, 200),\n",
    "    class_mode='binary'\n",
    ")\n",
    "\n",
    "\n",
    "validation_generator = test_datagen.flow_from_directory(\n",
    "    'brain_tumor_dataset/test',\n",
    "    target_size=(200, 200),\n",
    "    class_mode='binary'\n",
    ")\n",
    "\n",
    "\n",
    "\n"
   ],
   "outputs": [
    {
     "output_type": "stream",
     "name": "stdout",
     "text": [
      "Found 217 images belonging to 2 classes.\n",
      "Found 36 images belonging to 2 classes.\n"
     ]
    }
   ],
   "metadata": {}
  },
  {
   "cell_type": "code",
   "execution_count": 6,
   "source": [
    "model = tf.keras.models.Sequential([\n",
    "    tf.keras.layers.Conv2D(64, (3,3), activation='relu', input_shape=(200, 200, 3)),\n",
    "    keras.layers.MaxPooling2D(2, 2),\n",
    "    tf.keras.layers.Conv2D(64, (3, 3), activation='relu'),\n",
    "    tf.keras.layers.MaxPooling2D(2, 2),\n",
    "    tf.keras.layers.Dropout(0.3),\n",
    "    tf.keras.layers.Flatten(),\n",
    "    tf.keras.layers.Dense(256, activation='relu'),\n",
    "    tf.keras.layers.Dense(128, activation='relu'),\n",
    "    tf.keras.layers.Dense(1, activation='sigmoid')\n",
    "\n",
    "\n",
    "])"
   ],
   "outputs": [],
   "metadata": {}
  },
  {
   "cell_type": "code",
   "execution_count": 5,
   "source": [
    "model.compile(loss='binary_crossentropy', optimizer='adam', metrics=['accuracy'])\n",
    "history = model.fit(train_generator, epochs=8, validation_data= validation_generator, verbose=1)"
   ],
   "outputs": [
    {
     "output_type": "stream",
     "name": "stdout",
     "text": [
      "Epoch 1/8\n",
      "7/7 [==============================] - 17s 2s/step - loss: 1.0015 - accuracy: 0.5624 - val_loss: 0.5492 - val_accuracy: 0.8333\n",
      "Epoch 2/8\n",
      "7/7 [==============================] - 14s 2s/step - loss: 0.5174 - accuracy: 0.8146 - val_loss: 0.3555 - val_accuracy: 0.9722\n",
      "Epoch 3/8\n",
      "7/7 [==============================] - 13s 2s/step - loss: 0.3926 - accuracy: 0.8300 - val_loss: 0.2236 - val_accuracy: 0.9444\n",
      "Epoch 4/8\n",
      "7/7 [==============================] - 13s 2s/step - loss: 0.1972 - accuracy: 0.9192 - val_loss: 0.3893 - val_accuracy: 0.8056\n",
      "Epoch 5/8\n",
      "7/7 [==============================] - 12s 2s/step - loss: 0.1138 - accuracy: 0.9681 - val_loss: 0.1973 - val_accuracy: 0.9167\n",
      "Epoch 6/8\n",
      "7/7 [==============================] - 15s 2s/step - loss: 0.0249 - accuracy: 0.9891 - val_loss: 0.6242 - val_accuracy: 0.8056\n",
      "Epoch 7/8\n",
      "7/7 [==============================] - 14s 2s/step - loss: 0.0052 - accuracy: 1.0000 - val_loss: 0.3455 - val_accuracy: 0.8889\n",
      "Epoch 8/8\n",
      "7/7 [==============================] - 13s 2s/step - loss: 0.0037 - accuracy: 0.9974 - val_loss: 0.3783 - val_accuracy: 0.9167\n"
     ]
    }
   ],
   "metadata": {}
  },
  {
   "cell_type": "code",
   "execution_count": 6,
   "source": [
    "model.save('saved_models/final')\n"
   ],
   "outputs": [
    {
     "output_type": "stream",
     "name": "stdout",
     "text": [
      "INFO:tensorflow:Assets written to: saved_models/final/assets\n"
     ]
    }
   ],
   "metadata": {}
  },
  {
   "cell_type": "code",
   "execution_count": 7,
   "source": [
    "path = 'brain_tumor_dataset/test/yes/Y193.JPG'\n",
    "img = image.load_img(path, target_size=(200, 200))\n",
    "x = image.img_to_array(img)\n",
    "x = np.expand_dims(x, axis=0)\n",
    "scan = np.vstack([x])\n",
    "first = tf.keras.models.load_model('saved_models/final')\n",
    "prediction = first.predict(scan)\n",
    "if prediction > 0.5:\n",
    "    print(\"Malignent\")\n",
    "else:\n",
    "    print(\"Benign\")\n"
   ],
   "outputs": [
    {
     "output_type": "stream",
     "name": "stdout",
     "text": [
      "Malignent\n"
     ]
    }
   ],
   "metadata": {}
  },
  {
   "cell_type": "code",
   "execution_count": 9,
   "source": [
    "import matplotlib.pyplot as plt\n",
    "\n",
    "#get training history\n",
    "loss = history.history['loss']\n",
    "val_loss = history.history['val_loss']\n",
    "acc = history.history['accuracy']\n",
    "val_acc = history.history['val_accuracy']\n",
    "epochs = list(range(len(loss)))\n",
    "\n",
    "# plot loss and accuracy vs epochs\n",
    "plt.figure()\n",
    "plt.plot(epochs, loss, label='training loss')\n",
    "plt.plot(epochs, val_loss, label='validation loss')\n",
    "plt.legend()\n",
    "plt.figure()\n",
    "plt.plot(epochs, acc, label='training accuracy')\n",
    "plt.plot(epochs, val_acc, label='validation accuracy')\n",
    "plt.legend()\n",
    "plt.show()"
   ],
   "outputs": [
    {
     "output_type": "error",
     "ename": "NameError",
     "evalue": "name 'history' is not defined",
     "traceback": [
      "\u001b[0;31m---------------------------------------------------------------------------\u001b[0m",
      "\u001b[0;31mNameError\u001b[0m                                 Traceback (most recent call last)",
      "\u001b[0;32m<ipython-input-9-74c7f3fec4e9>\u001b[0m in \u001b[0;36m<module>\u001b[0;34m\u001b[0m\n\u001b[1;32m      2\u001b[0m \u001b[0;34m\u001b[0m\u001b[0m\n\u001b[1;32m      3\u001b[0m \u001b[0;31m#get training history\u001b[0m\u001b[0;34m\u001b[0m\u001b[0;34m\u001b[0m\u001b[0;34m\u001b[0m\u001b[0m\n\u001b[0;32m----> 4\u001b[0;31m \u001b[0mloss\u001b[0m \u001b[0;34m=\u001b[0m \u001b[0mhistory\u001b[0m\u001b[0;34m.\u001b[0m\u001b[0mhistory\u001b[0m\u001b[0;34m[\u001b[0m\u001b[0;34m'loss'\u001b[0m\u001b[0;34m]\u001b[0m\u001b[0;34m\u001b[0m\u001b[0;34m\u001b[0m\u001b[0m\n\u001b[0m\u001b[1;32m      5\u001b[0m \u001b[0mval_loss\u001b[0m \u001b[0;34m=\u001b[0m \u001b[0mhistory\u001b[0m\u001b[0;34m.\u001b[0m\u001b[0mhistory\u001b[0m\u001b[0;34m[\u001b[0m\u001b[0;34m'val_loss'\u001b[0m\u001b[0;34m]\u001b[0m\u001b[0;34m\u001b[0m\u001b[0;34m\u001b[0m\u001b[0m\n\u001b[1;32m      6\u001b[0m \u001b[0macc\u001b[0m \u001b[0;34m=\u001b[0m \u001b[0mhistory\u001b[0m\u001b[0;34m.\u001b[0m\u001b[0mhistory\u001b[0m\u001b[0;34m[\u001b[0m\u001b[0;34m'accuracy'\u001b[0m\u001b[0;34m]\u001b[0m\u001b[0;34m\u001b[0m\u001b[0;34m\u001b[0m\u001b[0m\n",
      "\u001b[0;31mNameError\u001b[0m: name 'history' is not defined"
     ]
    }
   ],
   "metadata": {}
  }
 ],
 "metadata": {
  "orig_nbformat": 4,
  "language_info": {
   "name": "python",
   "version": "3.8.5",
   "mimetype": "text/x-python",
   "codemirror_mode": {
    "name": "ipython",
    "version": 3
   },
   "pygments_lexer": "ipython3",
   "nbconvert_exporter": "python",
   "file_extension": ".py"
  },
  "kernelspec": {
   "name": "python3",
   "display_name": "Python 3.8.5 64-bit ('base': conda)"
  },
  "interpreter": {
   "hash": "4654b4775fbffb1e221c208aeede16e0774e132820393c347d49030cba8fba35"
  }
 },
 "nbformat": 4,
 "nbformat_minor": 2
}