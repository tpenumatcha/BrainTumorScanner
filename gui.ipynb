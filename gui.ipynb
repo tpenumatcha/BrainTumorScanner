{
 "cells": [
  {
   "cell_type": "code",
   "execution_count": 21,
   "source": [
    "from tkinter import *\n",
    "from PIL import ImageTk, Image\n",
    "from tkinter import filedialog\n",
    "import numpy as np\n",
    "import tensorflow as tf\n",
    "from tensorflow import keras\n",
    "from tensorflow.keras.preprocessing import image\n",
    "\n",
    "\n",
    "root = Tk()\n",
    "root.title(\"Brain Tumor Analysis\")\n",
    "root.geometry(\"550x300\")\n",
    "\n",
    "result = \"\"\n",
    "\n",
    "def check():\n",
    "    path = 'temp.jpg'\n",
    "    img = image.load_img(path, target_size=(200, 200))\n",
    "    x = image.img_to_array(img)\n",
    "    x = np.expand_dims(x, axis=0)\n",
    "    scan = np.vstack([x])\n",
    "    first = tf.keras.models.load_model('saved_models/first')\n",
    "    prediction = first.predict(scan)\n",
    "    if prediction > 0.5:\n",
    "        output.config(text=\"Malignent\")\n",
    "    else:\n",
    "        output.config(text=\"Benign\")\n",
    "\n",
    "def open_img():\n",
    "    x = openfilename()\n",
    "  \n",
    "    img = Image.open(x)\n",
    "    pic = img.save(\"temp.jpg\")\n",
    "\n",
    "    img = img.resize((200, 200), Image.ANTIALIAS)\n",
    "    img = ImageTk.PhotoImage(img)\n",
    "    panel = Label(root, image = img)\n",
    "    panel.image = img\n",
    "    panel.grid(row = 2)\n",
    "\n",
    "    check()\n",
    "\n",
    "\n",
    "\n",
    "def openfilename():\n",
    "    filename = filedialog.askopenfilename(title ='open')\n",
    "    return filename\n",
    "\n",
    "\n",
    "\n",
    "btn = Button(root, text ='Check', command = open_img).grid(row = 1, column = 0)\n",
    "\n",
    "output = Label(root, text=\"\")\n",
    "label = Label(root, text=\"Input MRI scan to test Brain Tumor Lethality\")\n",
    "label.grid(row=0,column=0)\n",
    "output.grid(row=2, column=4)\n",
    "\n",
    "root.mainloop()"
   ],
   "outputs": [],
   "metadata": {}
  }
 ],
 "metadata": {
  "orig_nbformat": 4,
  "language_info": {
   "name": "python",
   "version": "3.8.5",
   "mimetype": "text/x-python",
   "codemirror_mode": {
    "name": "ipython",
    "version": 3
   },
   "pygments_lexer": "ipython3",
   "nbconvert_exporter": "python",
   "file_extension": ".py"
  },
  "kernelspec": {
   "name": "python3",
   "display_name": "Python 3.8.5 64-bit ('base': conda)"
  },
  "interpreter": {
   "hash": "4654b4775fbffb1e221c208aeede16e0774e132820393c347d49030cba8fba35"
  }
 },
 "nbformat": 4,
 "nbformat_minor": 2
}